{
  "nbformat": 4,
  "nbformat_minor": 0,
  "metadata": {
    "colab": {
      "name": "Assignment 10.ipynb",
      "provenance": []
    },
    "kernelspec": {
      "name": "python3",
      "display_name": "Python 3"
    }
  },
  "cells": [
    {
      "cell_type": "markdown",
      "metadata": {
        "id": "4lys06QyJypw",
        "colab_type": "text"
      },
      "source": [
        "*   Name : Pallerla Likhitha\n",
        "*   ID NO : 1700254C203\n",
        "*  SEC : CSE-2\n",
        "\n",
        "\n",
        "\n",
        "\n"
      ]
    },
    {
      "cell_type": "markdown",
      "metadata": {
        "id": "MNIuflKdjiQt",
        "colab_type": "text"
      },
      "source": [
        "**Probelm 1 : Solution**"
      ]
    },
    {
      "cell_type": "code",
      "metadata": {
        "id": "qMClGNMCjve5",
        "colab_type": "code",
        "colab": {}
      },
      "source": [
        "import numpy as np\n",
        "import random\n",
        "np.random.seed(1)\n",
        "\n",
        "allwalks = []\n"
      ],
      "execution_count": 0,
      "outputs": []
    },
    {
      "cell_type": "code",
      "metadata": {
        "id": "pgCx2rnCkd_k",
        "colab_type": "code",
        "outputId": "c6797fca-2b07-4da0-95a8-15dad892fdcb",
        "colab": {
          "base_uri": "https://localhost:8080/",
          "height": 1000
        }
      },
      "source": [
        "for i in range(250):\n",
        "    randwalk = [0]\n",
        "    for x in range(100):\n",
        "        step = randwalk[-1]\n",
        "        dice = random.randint(1,7)\n",
        "        if dice <= 2 :\n",
        "            step = max(0, step - 1)\n",
        "\n",
        "        elif dice<=5:\n",
        "            step += 1\n",
        "\n",
        "        else:\n",
        "            step = step + random.randint(1,7)\n",
        "        \n",
        "    print(step)"
      ],
      "execution_count": 0,
      "outputs": [
        {
          "output_type": "stream",
          "text": [
            "4\n",
            "0\n",
            "1\n",
            "1\n",
            "1\n",
            "1\n",
            "0\n",
            "1\n",
            "0\n",
            "1\n",
            "1\n",
            "1\n",
            "1\n",
            "1\n",
            "0\n",
            "1\n",
            "1\n",
            "0\n",
            "3\n",
            "0\n",
            "1\n",
            "3\n",
            "7\n",
            "1\n",
            "1\n",
            "4\n",
            "7\n",
            "0\n",
            "1\n",
            "1\n",
            "7\n",
            "1\n",
            "2\n",
            "0\n",
            "1\n",
            "2\n",
            "1\n",
            "4\n",
            "0\n",
            "1\n",
            "1\n",
            "4\n",
            "1\n",
            "1\n",
            "0\n",
            "1\n",
            "1\n",
            "6\n",
            "0\n",
            "2\n",
            "4\n",
            "0\n",
            "1\n",
            "0\n",
            "0\n",
            "3\n",
            "0\n",
            "1\n",
            "0\n",
            "1\n",
            "1\n",
            "1\n",
            "1\n",
            "1\n",
            "1\n",
            "1\n",
            "1\n",
            "1\n",
            "1\n",
            "0\n",
            "0\n",
            "0\n",
            "1\n",
            "0\n",
            "1\n",
            "0\n",
            "0\n",
            "1\n",
            "0\n",
            "1\n",
            "3\n",
            "2\n",
            "1\n",
            "4\n",
            "0\n",
            "0\n",
            "0\n",
            "0\n",
            "1\n",
            "1\n",
            "1\n",
            "1\n",
            "1\n",
            "0\n",
            "1\n",
            "1\n",
            "1\n",
            "1\n",
            "6\n",
            "2\n",
            "1\n",
            "5\n",
            "0\n",
            "1\n",
            "1\n",
            "0\n",
            "0\n",
            "7\n",
            "0\n",
            "1\n",
            "1\n",
            "0\n",
            "1\n",
            "1\n",
            "1\n",
            "1\n",
            "1\n",
            "1\n",
            "1\n",
            "0\n",
            "0\n",
            "1\n",
            "0\n",
            "1\n",
            "1\n",
            "0\n",
            "1\n",
            "1\n",
            "0\n",
            "1\n",
            "1\n",
            "6\n",
            "1\n",
            "1\n",
            "3\n",
            "0\n",
            "1\n",
            "1\n",
            "1\n",
            "2\n",
            "0\n",
            "1\n",
            "1\n",
            "1\n",
            "1\n",
            "1\n",
            "6\n",
            "0\n",
            "0\n",
            "1\n",
            "0\n",
            "1\n",
            "3\n",
            "0\n",
            "2\n",
            "1\n",
            "1\n",
            "0\n",
            "1\n",
            "1\n",
            "4\n",
            "0\n",
            "1\n",
            "1\n",
            "5\n",
            "3\n",
            "3\n",
            "1\n",
            "1\n",
            "1\n",
            "4\n",
            "1\n",
            "0\n",
            "1\n",
            "1\n",
            "1\n",
            "0\n",
            "0\n",
            "7\n",
            "1\n",
            "2\n",
            "0\n",
            "0\n",
            "1\n",
            "1\n",
            "0\n",
            "0\n",
            "1\n",
            "0\n",
            "1\n",
            "2\n",
            "3\n",
            "1\n",
            "1\n",
            "1\n",
            "4\n",
            "1\n",
            "1\n",
            "1\n",
            "1\n",
            "0\n",
            "0\n",
            "1\n",
            "1\n",
            "1\n",
            "1\n",
            "3\n",
            "1\n",
            "1\n",
            "1\n",
            "1\n",
            "0\n",
            "7\n",
            "1\n",
            "1\n",
            "0\n",
            "0\n",
            "3\n",
            "0\n",
            "1\n",
            "0\n",
            "1\n",
            "1\n",
            "4\n",
            "7\n",
            "1\n",
            "2\n",
            "2\n",
            "4\n",
            "7\n",
            "0\n",
            "1\n",
            "6\n",
            "0\n",
            "0\n",
            "1\n",
            "1\n",
            "7\n",
            "0\n",
            "1\n",
            "1\n",
            "1\n",
            "1\n",
            "1\n",
            "0\n",
            "0\n",
            "0\n",
            "0\n",
            "5\n",
            "3\n"
          ],
          "name": "stdout"
        }
      ]
    },
    {
      "cell_type": "code",
      "metadata": {
        "id": "NxF3I2ONEmON",
        "colab_type": "code",
        "colab": {
          "base_uri": "https://localhost:8080/",
          "height": 51
        },
        "outputId": "a84ceb7d-4a2b-4e5b-ebca-925ad6cf0000"
      },
      "source": [
        "import numpy as np\n",
        "\n",
        "moves = [1,2,3,4,5,6]\n",
        "prob = [0.2,0.3,0.2,0.1,0.1,0.1]\n",
        "\n",
        "def rollDice():\n",
        "    current_move = np.random.choice(a= moves , p = prob)\n",
        "    return int(current_move) \n",
        "\n",
        "Iterations = 10000\n",
        "down_movement = [1,2]\n",
        "up_movement = [3,4,5]\n",
        "successful_iterations = 0\n",
        "selected6 = 0\n",
        "for i in range (0,Iterations): \n",
        "    total_steps = 250\n",
        "    current_position = 0\n",
        "    selected6 = 0\n",
        "    completedMoves = 0\n",
        "    while completedMoves < total_steps:\n",
        "        completedMoves +=1\n",
        "        if(current_position > 60):\n",
        "            successful_iterations+=1\n",
        "            break\n",
        "        current_movement = rollDice()\n",
        "        if(current_movement in  down_movement):\n",
        "            current_position -=1\n",
        "        elif current_movement in up_movement :\n",
        "            current_position +=1    \n",
        "        else  :#current movement  = 6\n",
        "            completedMoves -=1\n",
        "            current_movement = rollDice()\n",
        "            current_position += current_movement\n",
        "        \n",
        "probabilty_of_reaching = successful_iterations/Iterations\n",
        "print(successful_iterations)\n",
        "print(probabilty_of_reaching)"
      ],
      "execution_count": 1,
      "outputs": [
        {
          "output_type": "stream",
          "text": [
            "4241\n",
            "0.4241\n"
          ],
          "name": "stdout"
        }
      ]
    },
    {
      "cell_type": "markdown",
      "metadata": {
        "id": "gofvM1Gjkn1d",
        "colab_type": "text"
      },
      "source": [
        "**Problem 2 : Solution**"
      ]
    },
    {
      "cell_type": "markdown",
      "metadata": {
        "id": "D9CRZ8oUk5jN",
        "colab_type": "text"
      },
      "source": [
        " a. Generate random data for for Multiple Linear Regression"
      ]
    },
    {
      "cell_type": "code",
      "metadata": {
        "id": "Sg52Dcgxk702",
        "colab_type": "code",
        "colab": {}
      },
      "source": [
        "import numpy as np\n",
        "import random\n",
        "import scipy\n",
        "from scipy.stats import norm\n",
        "import pandas as pd\n"
      ],
      "execution_count": 0,
      "outputs": []
    },
    {
      "cell_type": "code",
      "metadata": {
        "id": "q0vS6wtrn8AJ",
        "colab_type": "code",
        "colab": {
          "base_uri": "https://localhost:8080/",
          "height": 578
        },
        "outputId": "496afdcc-d046-422b-9085-2294da6bae57"
      },
      "source": [
        "random.seed(1)\n",
        "n= 3\n",
        "X=[]\n",
        "for i in range(0,n):\n",
        "    X_i= scipy.stats.norm.rvs(0, 1, 100)\n",
        "    X.append(X_i)\n",
        "eps=scipy.stats.norm.rvs(0, 1, 100)\n",
        "y = 1 + (0.5 * X[0]) + (0.4 * X[1]) + (0.3 * X[2])  + eps\n",
        "data_ols = {'X0': X[0],'X1':X[1],'X2':X[2] ,'Y': y }\n",
        "df = pd.DataFrame(data_ols)\n",
        "print(df.head())\n",
        "print(df.tail())\n",
        "print(df.info())\n",
        "print(df.describe())"
      ],
      "execution_count": 14,
      "outputs": [
        {
          "output_type": "stream",
          "text": [
            "         X0        X1        X2         Y\n",
            "0 -0.070583 -0.198797  0.522602  2.015094\n",
            "1 -1.055843 -0.301422 -0.789546 -0.956601\n",
            "2  0.424432 -1.016348  1.510032  0.967534\n",
            "3  0.267170 -1.948241 -0.398092  0.086228\n",
            "4 -0.208395 -0.700860  0.435478 -0.177981\n",
            "          X0        X1        X2         Y\n",
            "95  0.708748  1.044930 -0.191773  1.226473\n",
            "96  1.174159  0.471784 -1.130345  2.242354\n",
            "97 -1.121986 -0.718099  0.428745  1.320428\n",
            "98 -0.336709  0.288753  1.199001  0.123871\n",
            "99  0.733376 -0.312411 -0.494704  1.095897\n",
            "<class 'pandas.core.frame.DataFrame'>\n",
            "RangeIndex: 100 entries, 0 to 99\n",
            "Data columns (total 4 columns):\n",
            " #   Column  Non-Null Count  Dtype  \n",
            "---  ------  --------------  -----  \n",
            " 0   X0      100 non-null    float64\n",
            " 1   X1      100 non-null    float64\n",
            " 2   X2      100 non-null    float64\n",
            " 3   Y       100 non-null    float64\n",
            "dtypes: float64(4)\n",
            "memory usage: 3.2 KB\n",
            "None\n",
            "               X0          X1          X2           Y\n",
            "count  100.000000  100.000000  100.000000  100.000000\n",
            "mean     0.051991   -0.067624    0.102169    1.125755\n",
            "std      0.851819    0.935872    0.980516    1.176205\n",
            "min     -2.245315   -2.319569   -2.201674   -1.387844\n",
            "25%     -0.562834   -0.670299   -0.731631    0.276581\n",
            "50%      0.005672   -0.120252    0.081575    1.226455\n",
            "75%      0.677386    0.479422    0.759444    1.925158\n",
            "max      1.921516    2.646797    2.179558    3.970836\n"
          ],
          "name": "stdout"
        }
      ]
    },
    {
      "cell_type": "markdown",
      "metadata": {
        "id": "-AI_sCRDol-F",
        "colab_type": "text"
      },
      "source": [
        "b. Generate random data for for Logistic Regression"
      ]
    },
    {
      "cell_type": "code",
      "metadata": {
        "id": "dgJZS921olF_",
        "colab_type": "code",
        "colab": {
          "base_uri": "https://localhost:8080/",
          "height": 578
        },
        "outputId": "828c172a-b4dd-4e22-ad50-a366249b5695"
      },
      "source": [
        "X = []\n",
        "n = 3\n",
        "for i in range(0,n):\n",
        "  X_i = scipy.stats.norm.rvs(0, 1, 100)\n",
        "  X.append(X_i)\n",
        "odds = (np.exp(1 + (0.5 * X[0]) + (0.4 * X[1]) + (0.3 * X[2])) /(1 + np.exp(1 + (0.5 * X[0]) + (0.4 * X[1]) + (0.3 * X[2]) ))) \n",
        "y1 = [ ]\n",
        "for i in odds:\n",
        "  if (i>=0.5):\n",
        "    y1.append(1)\n",
        "  else:\n",
        "    y1.append(0)\n",
        "data_lr = {'X0': X[0],'X1':X[1],'X2':X[2] ,'Y': y1 }\n",
        "df1 = pd.DataFrame(data_lr)\n",
        "print(df.head())\n",
        "print(df.tail())\n",
        "print(df.info())\n",
        "print(df.describe())"
      ],
      "execution_count": 15,
      "outputs": [
        {
          "output_type": "stream",
          "text": [
            "         X0        X1        X2         Y\n",
            "0 -0.070583 -0.198797  0.522602  2.015094\n",
            "1 -1.055843 -0.301422 -0.789546 -0.956601\n",
            "2  0.424432 -1.016348  1.510032  0.967534\n",
            "3  0.267170 -1.948241 -0.398092  0.086228\n",
            "4 -0.208395 -0.700860  0.435478 -0.177981\n",
            "          X0        X1        X2         Y\n",
            "95  0.708748  1.044930 -0.191773  1.226473\n",
            "96  1.174159  0.471784 -1.130345  2.242354\n",
            "97 -1.121986 -0.718099  0.428745  1.320428\n",
            "98 -0.336709  0.288753  1.199001  0.123871\n",
            "99  0.733376 -0.312411 -0.494704  1.095897\n",
            "<class 'pandas.core.frame.DataFrame'>\n",
            "RangeIndex: 100 entries, 0 to 99\n",
            "Data columns (total 4 columns):\n",
            " #   Column  Non-Null Count  Dtype  \n",
            "---  ------  --------------  -----  \n",
            " 0   X0      100 non-null    float64\n",
            " 1   X1      100 non-null    float64\n",
            " 2   X2      100 non-null    float64\n",
            " 3   Y       100 non-null    float64\n",
            "dtypes: float64(4)\n",
            "memory usage: 3.2 KB\n",
            "None\n",
            "               X0          X1          X2           Y\n",
            "count  100.000000  100.000000  100.000000  100.000000\n",
            "mean     0.051991   -0.067624    0.102169    1.125755\n",
            "std      0.851819    0.935872    0.980516    1.176205\n",
            "min     -2.245315   -2.319569   -2.201674   -1.387844\n",
            "25%     -0.562834   -0.670299   -0.731631    0.276581\n",
            "50%      0.005672   -0.120252    0.081575    1.226455\n",
            "75%      0.677386    0.479422    0.759444    1.925158\n",
            "max      1.921516    2.646797    2.179558    3.970836\n"
          ],
          "name": "stdout"
        }
      ]
    },
    {
      "cell_type": "markdown",
      "metadata": {
        "id": "fanTbszYou0f",
        "colab_type": "text"
      },
      "source": [
        "c.Generate random data for for K-Means Clustering"
      ]
    },
    {
      "cell_type": "code",
      "metadata": {
        "id": "iXchhk-Po693",
        "colab_type": "code",
        "colab": {
          "base_uri": "https://localhost:8080/",
          "height": 826
        },
        "outputId": "2e02c77f-e2f2-4c26-b424-d32bf1eb1b75"
      },
      "source": [
        "import matplotlib.pyplot as plt\n",
        "\n",
        "X_a= -2 * np.random.rand(100,2)\n",
        "X_b = 1 + 2 * np.random.rand(50,2)\n",
        "X_a[50:100, :] = X_b\n",
        "plt.scatter(X_a[ : , 0], X_a[ :, 1], s = 50)\n",
        "plt.show()\n",
        "data_kmeans = {'X0': X_a[:,0],'X1':X_a[:,1]}\n",
        "df3 = pd.DataFrame(data_kmeans)\n",
        "print(df.head())\n",
        "print(df.tail())\n",
        "print(df.info())\n",
        "print(df.describe())"
      ],
      "execution_count": 17,
      "outputs": [
        {
          "output_type": "display_data",
          "data": {
            "image/png": "[encoded data removed]",
            "text/plain": [
              "<Figure size 432x288 with 1 Axes>"
            ]
          },
          "metadata": {
            "tags": [],
            "needs_background": "light"
          }
        },
        {
          "output_type": "stream",
          "text": [
            "         X0        X1        X2         Y\n",
            "0 -0.070583 -0.198797  0.522602  2.015094\n",
            "1 -1.055843 -0.301422 -0.789546 -0.956601\n",
            "2  0.424432 -1.016348  1.510032  0.967534\n",
            "3  0.267170 -1.948241 -0.398092  0.086228\n",
            "4 -0.208395 -0.700860  0.435478 -0.177981\n",
            "          X0        X1        X2         Y\n",
            "95  0.708748  1.044930 -0.191773  1.226473\n",
            "96  1.174159  0.471784 -1.130345  2.242354\n",
            "97 -1.121986 -0.718099  0.428745  1.320428\n",
            "98 -0.336709  0.288753  1.199001  0.123871\n",
            "99  0.733376 -0.312411 -0.494704  1.095897\n",
            "<class 'pandas.core.frame.DataFrame'>\n",
            "RangeIndex: 100 entries, 0 to 99\n",
            "Data columns (total 4 columns):\n",
            " #   Column  Non-Null Count  Dtype  \n",
            "---  ------  --------------  -----  \n",
            " 0   X0      100 non-null    float64\n",
            " 1   X1      100 non-null    float64\n",
            " 2   X2      100 non-null    float64\n",
            " 3   Y       100 non-null    float64\n",
            "dtypes: float64(4)\n",
            "memory usage: 3.2 KB\n",
            "None\n",
            "               X0          X1          X2           Y\n",
            "count  100.000000  100.000000  100.000000  100.000000\n",
            "mean     0.051991   -0.067624    0.102169    1.125755\n",
            "std      0.851819    0.935872    0.980516    1.176205\n",
            "min     -2.245315   -2.319569   -2.201674   -1.387844\n",
            "25%     -0.562834   -0.670299   -0.731631    0.276581\n",
            "50%      0.005672   -0.120252    0.081575    1.226455\n",
            "75%      0.677386    0.479422    0.759444    1.925158\n",
            "max      1.921516    2.646797    2.179558    3.970836\n"
          ],
          "name": "stdout"
        }
      ]
    },
    {
      "cell_type": "markdown",
      "metadata": {
        "id": "IBIw2PWGqDDH",
        "colab_type": "text"
      },
      "source": [
        "**Problem 3 : Solution**"
      ]
    },
    {
      "cell_type": "markdown",
      "metadata": {
        "id": "Ejo6EYPmqHhV",
        "colab_type": "text"
      },
      "source": [
        "a. Linear Regression using Gradient Descent"
      ]
    },
    {
      "cell_type": "code",
      "metadata": {
        "id": "Ke1DEtWwq9Sa",
        "colab_type": "code",
        "colab": {
          "base_uri": "https://localhost:8080/",
          "height": 34
        },
        "outputId": "acb888d3-37f2-4d0e-8ae9-0730c495aa7e"
      },
      "source": [
        "X = df.iloc[:,0].values\n",
        "#print(X)\n",
        "y = df.iloc[:,3].values\n",
        "b1 = 0\n",
        "b0 = 0\n",
        "l = 0.001\n",
        "epochs = 150\n",
        " \n",
        "n = float(len(X))\n",
        "for i in range(epochs):\n",
        "  y_p = b1*X + b0\n",
        "  loss = np.sum(y_p - y1)**2\n",
        "  d1 = (-2/n) * sum(X * (y - y_p))\n",
        "  d0 = (-2/n) * sum(y - y_p)\n",
        "  b1 = b1 - (l*d1)\n",
        "  b0 = b0 - (l*d0)\n",
        "\n",
        "print(b1,b0)"
      ],
      "execution_count": 19,
      "outputs": [
        {
          "output_type": "stream",
          "text": [
            "0.12149951177436703 0.2911363640500372\n"
          ],
          "name": "stdout"
        }
      ]
    },
    {
      "cell_type": "markdown",
      "metadata": {
        "id": "pwLiJz6RpSwV",
        "colab_type": "text"
      },
      "source": [
        "b. Logistic Regression using Gradient Descent"
      ]
    },
    {
      "cell_type": "code",
      "metadata": {
        "id": "dmpiGThwpX4R",
        "colab_type": "code",
        "colab": {
          "base_uri": "https://localhost:8080/",
          "height": 187
        },
        "outputId": "edb33655-966f-4d87-be9c-3b3adde2ca4d"
      },
      "source": [
        "X1 = df1.iloc[:,0:3].values\n",
        "y1 = df1.iloc[:,3].values\n",
        "\n",
        "def sigmoid(Z):\n",
        "  return 1 /(1+np.exp(-Z))\n",
        "\n",
        "def loss(y1,y_hat):\n",
        "  return -np.mean(y1*np.log(y_hat) + (1-y1)*(np.log(1-y_hat)))\n",
        "\n",
        "W = np.zeros((3,1))\n",
        "b = np.zeros((1,1))\n",
        "\n",
        "m = len(y1)\n",
        "lr = 0.001\n",
        "for epoch in range(1000):\n",
        "  Z = np.matmul(X1,W)+b\n",
        "  A = sigmoid(Z)\n",
        "  logistic_loss = loss(y1,A)\n",
        "  dz = A - y1\n",
        "  dw = 1/m * np.matmul(X1.T,dz)\n",
        "  db = np.sum(dz)\n",
        "  W = W - lr*dw\n",
        "  b = b - lr*db\n",
        "\n",
        "  if epoch % 100 == 0:\n",
        "    print(logistic_loss)"
      ],
      "execution_count": 20,
      "outputs": [
        {
          "output_type": "stream",
          "text": [
            "0.6931471805599453\n",
            "0.34644190424747157\n",
            "0.346369781888089\n",
            "0.3462989488172553\n",
            "0.346229384471443\n",
            "0.3461610685826626\n",
            "0.34609398117290024\n",
            "0.346028102548775\n",
            "0.3459634132964013\n",
            "0.3458998942764531\n"
          ],
          "name": "stdout"
        }
      ]
    },
    {
      "cell_type": "markdown",
      "metadata": {
        "id": "P-Xprw0kpfQo",
        "colab_type": "text"
      },
      "source": [
        "c. Linear Regression with L1 and L2 Regularization"
      ]
    },
    {
      "cell_type": "code",
      "metadata": {
        "id": "pHKui_xvplbS",
        "colab_type": "code",
        "colab": {
          "base_uri": "https://localhost:8080/",
          "height": 34
        },
        "outputId": "914a51ef-30a9-40b4-b085-29cf7a733a4d"
      },
      "source": [
        "#LINEAR REGRESSION WITH L1 REGULARIZATION\n",
        "\n",
        "X = df.iloc[:,0].values\n",
        "y = df.iloc[:,3].values\n",
        "b1 = 0\n",
        "b0 = 0\n",
        "l = 0.001\n",
        "epochs = 100\n",
        "lam = 0.1\n",
        " \n",
        "n = float(len(X))\n",
        "for i in range(epochs):\n",
        "  y_p = b1*X + b0\n",
        "  loss = np.sum(y_p - y1)**2 + (lam * b1)\n",
        "  d1 = (-2/n) * sum(X * (y - y_p)) + lam\n",
        "  d0 = (-2/n) * sum(y - y_p)\n",
        "  b1 = b1 - (l*d1)\n",
        "  b0 = b0 - (l*d0)\n",
        "\n",
        "print(b1,b0)"
      ],
      "execution_count": 21,
      "outputs": [
        {
          "output_type": "stream",
          "text": [
            "0.07505441705331191 0.20387693646821964\n"
          ],
          "name": "stdout"
        }
      ]
    },
    {
      "cell_type": "code",
      "metadata": {
        "id": "vmlOON03rFKr",
        "colab_type": "code",
        "colab": {
          "base_uri": "https://localhost:8080/",
          "height": 34
        },
        "outputId": "3dc11987-4d5b-4ea4-818b-9e34a024b257"
      },
      "source": [
        "# LINEAR REGRESSION WITH L2 REGULARIZATION\n",
        "\n",
        "X = df.iloc[:,0].values\n",
        "#print(X)\n",
        "y = df.iloc[:,3].values\n",
        "b1 = 0\n",
        "b0 = 0\n",
        "l = 0.001\n",
        "epochs = 100\n",
        "lam = 0.1\n",
        " \n",
        "n = float(len(X))\n",
        "for i in range(epochs):\n",
        "  y_p = b1*X + b0\n",
        "  loss = np.sum(y_p - y1)**2 + ((lam/2) * b1)\n",
        "  d1 = (-2/n) * sum(X * (y - y_p)) + (lam *b1)\n",
        "  d0 = (-2/n) * sum(y - y_p)\n",
        "  b1 = b1 - (l*d1)\n",
        "  b0 = b0 - (l*d0)\n",
        "\n",
        "print(b1,b0)"
      ],
      "execution_count": 22,
      "outputs": [
        {
          "output_type": "stream",
          "text": [
            "0.08396480468519651 0.20383226049458464\n"
          ],
          "name": "stdout"
        }
      ]
    },
    {
      "cell_type": "markdown",
      "metadata": {
        "id": "YmdPwK0crD3a",
        "colab_type": "text"
      },
      "source": [
        "d. Logistic Regression with  L1 and L2 Regularization"
      ]
    },
    {
      "cell_type": "code",
      "metadata": {
        "id": "EBo6DtB0rSh0",
        "colab_type": "code",
        "colab": {
          "base_uri": "https://localhost:8080/",
          "height": 187
        },
        "outputId": "ea394e94-e20e-4157-976b-781c55a61558"
      },
      "source": [
        "# LOGISTIC REGRESSION WITH L1 REGULARIZATION\n",
        "\n",
        "X1 = df1.iloc[:,0:3].values\n",
        "y1 = df1.iloc[:,3].values\n",
        "lam = 0.1\n",
        "def sigmoid(Z):\n",
        "  return 1 /(1+np.exp(-Z))\n",
        "\n",
        "def loss(y1,y_hat):\n",
        "  return -np.mean(y1*np.log(y_hat) + (1-y1)*(np.log(1-y_hat))) + (lam * (np.sum(W)))\n",
        "\n",
        "W = np.zeros((3,1))\n",
        "b = np.zeros((1,1))\n",
        "\n",
        "m = len(y1)\n",
        "lr = 0.001\n",
        "for epoch in range(1000):\n",
        "  Z = np.matmul(X1,W)+b\n",
        "  A = sigmoid(Z)\n",
        "  logistic_loss = loss(y1,A)\n",
        "  dz = A - y1\n",
        "  dw = 1/m * np.matmul(X1.T,dz) + lam\n",
        "  db = np.sum(dz)\n",
        "\n",
        "  W = W - lr*dw\n",
        "  b = b - lr*db\n",
        "\n",
        "  if epoch % 100 == 0:\n",
        "    print(logistic_loss)"
      ],
      "execution_count": 23,
      "outputs": [
        {
          "output_type": "stream",
          "text": [
            "0.6931471805599453\n",
            "0.04757596959853133\n",
            "-0.24880680375518355\n",
            "-0.5427651621834155\n",
            "-0.8343349259661441\n",
            "-1.1235514428001179\n",
            "-1.4104495729654534\n",
            "-1.6950636768518614\n",
            "-1.977427604683284\n",
            "-2.25757468828348\n"
          ],
          "name": "stdout"
        }
      ]
    },
    {
      "cell_type": "code",
      "metadata": {
        "id": "gSbuK4ywrZeP",
        "colab_type": "code",
        "colab": {
          "base_uri": "https://localhost:8080/",
          "height": 187
        },
        "outputId": "edace003-d347-421a-c55b-b1afcde5eeac"
      },
      "source": [
        "# LOGISTIC REGRESSION WITH L2 REGULARIZATION\n",
        "\n",
        "X1 = df1.iloc[:,0:3].values\n",
        "y1 = df1.iloc[:,3].values\n",
        "lam = 0.1\n",
        "def sigmoid(Z):\n",
        "  return 1 /(1+np.exp(-Z))\n",
        "\n",
        "def loss(y1,y_hat):\n",
        "  return -np.mean(y1*np.log(y_hat) + (1-y1)*(np.log(1-y_hat))) + (lam * (np.sum(np.square(W))))\n",
        "\n",
        "W = np.zeros((3,1))\n",
        "b = np.zeros((1,1))\n",
        "\n",
        "m = len(y1)\n",
        "lr = 0.001\n",
        "for epoch in range(1000):\n",
        "  Z = np.matmul(X1,W)+b\n",
        "  A = sigmoid(Z)\n",
        "  logistic_loss = loss(y1,A)\n",
        "  dz = A - y1\n",
        "  dw = 1/m * np.matmul(X1.T,dz) + lam * W\n",
        "  db = np.sum(dz)\n",
        "\n",
        "  W = W - lr*dw\n",
        "  b = b - lr*db\n",
        "\n",
        "  if epoch % 100 == 0:\n",
        "    print(logistic_loss)"
      ],
      "execution_count": 24,
      "outputs": [
        {
          "output_type": "stream",
          "text": [
            "0.6931471805599453\n",
            "0.3465149814264249\n",
            "0.3466566121192769\n",
            "0.34693225938453126\n",
            "0.34733428876441147\n",
            "0.34785539135541144\n",
            "0.34848857151234963\n",
            "0.34922713499079344\n",
            "0.3500646775116872\n",
            "0.35099507373274735\n"
          ],
          "name": "stdout"
        }
      ]
    },
    {
      "cell_type": "markdown",
      "metadata": {
        "id": "OVfZ4zlyri9w",
        "colab_type": "text"
      },
      "source": [
        "e. K-Means"
      ]
    },
    {
      "cell_type": "code",
      "metadata": {
        "id": "L-PvaOe3rmdY",
        "colab_type": "code",
        "colab": {
          "base_uri": "https://localhost:8080/",
          "height": 299
        },
        "outputId": "856881f6-e23f-4dbf-d94d-05c4d6b0d032"
      },
      "source": [
        "class K_Means:\n",
        "    def __init__(self, k=2, tol=0.001, max_iter=300):\n",
        "        self.k = k\n",
        "        self.tol = tol\n",
        "        self.max_iter = max_iter\n",
        "\n",
        "    def fit(self,data):\n",
        "\n",
        "        self.centroids = {}\n",
        "\n",
        "        for i in range(self.k):\n",
        "            self.centroids[i] = data[i]\n",
        "\n",
        "        for i in range(self.max_iter):\n",
        "            self.classifications = {}\n",
        "\n",
        "            for i in range(self.k):\n",
        "                self.classifications[i] = []\n",
        "\n",
        "            for featureset in X:\n",
        "                distances = [np.linalg.norm(featureset-self.centroids[centroid]) for centroid in self.centroids]\n",
        "                classification = distances.index(min(distances))\n",
        "                self.classifications[classification].append(featureset)\n",
        "\n",
        "            prev_centroids = dict(self.centroids)\n",
        "\n",
        "            for classification in self.classifications:\n",
        "                self.centroids[classification] = np.average(self.classifications[classification],axis=0)\n",
        "\n",
        "            optimized = True\n",
        "\n",
        "            for c in self.centroids:\n",
        "                original_centroid = prev_centroids[c]\n",
        "                current_centroid = self.centroids[c]\n",
        "                if np.sum((current_centroid-original_centroid)/original_centroid*100.0) > self.tol:\n",
        "                    print(np.sum((current_centroid-original_centroid)/original_centroid*100.0))\n",
        "                    optimized = False\n",
        "\n",
        "            if optimized:\n",
        "                break\n",
        "\n",
        "    def predict(self,data):\n",
        "        distances = [np.linalg.norm(data-self.centroids[centroid]) for centroid in self.centroids]\n",
        "        classification = distances.index(min(distances))\n",
        "        return classification\n",
        "        \n",
        "colors = 10*[\"g\",\"r\",\"c\",\"b\",\"k\"]\n",
        "\n",
        "X = df3.iloc[:,0:2].values\n",
        "clf = K_Means()\n",
        "clf.fit(X)\n",
        "\n",
        "for centroid in clf.centroids:\n",
        "    plt.scatter(clf.centroids[centroid][0], clf.centroids[centroid][1],\n",
        "                marker=\"o\", color=\"k\", s=150, linewidths=5)\n",
        "\n",
        "for classification in clf.classifications:\n",
        "    color = colors[classification]\n",
        "    for featureset in clf.classifications[classification]:\n",
        "        plt.scatter(featureset[0], featureset[1], marker=\"x\", color=color, s=150, linewidths=5)"
      ],
      "execution_count": 26,
      "outputs": [
        {
          "output_type": "stream",
          "text": [
            "1.30974645389135\n",
            "302.92666689742066\n"
          ],
          "name": "stdout"
        },
        {
          "output_type": "display_data",
          "data": {
            "image/png": "[encoded data removed]",
            "text/plain": [
              "<Figure size 432x288 with 1 Axes>"
            ]
          },
          "metadata": {
            "tags": [],
            "needs_background": "light"
          }
        }
      ]
    },
    {
      "cell_type": "markdown",
      "metadata": {
        "id": "1V-tJ2yUAnO2",
        "colab_type": "text"
      },
      "source": [
        "**Problem 4: Solution**"
      ]
    },
    {
      "cell_type": "code",
      "metadata": {
        "id": "T1VGeBh-Avr7",
        "colab_type": "code",
        "colab": {
          "base_uri": "https://localhost:8080/",
          "height": 51
        },
        "outputId": "ecc263fd-e660-4ad0-e888-51815d6caac8"
      },
      "source": [
        "#Question 1 implemented in oops\n",
        "\n",
        "import numpy as np\n",
        "\n",
        "\n",
        "class diceAndStairs:\n",
        "\n",
        "    def  __init__(self ,maxNumberOfTrails , probability):\n",
        "        super().__init__()\n",
        "        self.maxNumberOfTrails = maxNumberOfTrails\n",
        "        self.probabilityList = probability\n",
        "        self.moves  = [1,2,3,4,5,6]\n",
        "        self.down_movement = [1,2]\n",
        "        self.up_movement = [3,4,5]\n",
        "\n",
        "   \n",
        "    def rollDice(self):\n",
        "        current_move = np.random.choice(a= self.moves , p = self.probabilityList)\n",
        "        return int(current_move)  \n",
        "    def findProb(self,Iterations , up_movement , down_movement , prob , desiredSteps):\n",
        "        successful_iterations = 0\n",
        "        selected6 = 0\n",
        "        for i in range (0,Iterations): \n",
        "            total_steps = self.maxNumberOfTrails\n",
        "            current_position = 0\n",
        "            selected6 = 0\n",
        "            completedMoves = 0\n",
        "            while completedMoves < total_steps:\n",
        "                completedMoves +=1\n",
        "                if(current_position > desiredSteps):\n",
        "                    successful_iterations+=1\n",
        "                    break\n",
        "                current_movement = self.rollDice()\n",
        "                if(current_movement in  down_movement):\n",
        "                    current_position -=1\n",
        "                elif current_movement in up_movement :\n",
        "                    current_position +=1    \n",
        "                else  :#current movement  = 6\n",
        "                    completedMoves -=1\n",
        "                    current_movement = self.rollDice()\n",
        "                    current_position += current_movement\n",
        "                \n",
        "        probabilty_of_reaching = successful_iterations/Iterations\n",
        "        print(successful_iterations)\n",
        "        print(probabilty_of_reaching)\n",
        "    \n",
        "    def findProbabilityOfReaching(self , desiredSteps , Iterations):\n",
        "        self.findProb(Iterations,self.up_movement,self.down_movement,self.probabilityList,desiredSteps)\n",
        "    \n",
        "\n",
        "moves = [1,2,3,4,5,6]\n",
        "prob = [0.2,0.3,0.2,0.1,0.1,0.1]\n",
        "dc =  diceAndStairs(250 , prob)\n",
        "dc.findProbabilityOfReaching(60 , 10000)"
      ],
      "execution_count": 9,
      "outputs": [
        {
          "output_type": "stream",
          "text": [
            "4203\n",
            "0.4203\n"
          ],
          "name": "stdout"
        }
      ]
    },
    {
      "cell_type": "code",
      "metadata": {
        "id": "nHxL_D21sPsH",
        "colab_type": "code",
        "colab": {}
      },
      "source": [
        "# Question 2 \n",
        "\n",
        "# Linear Regression using Gradient Descent\n",
        "\n",
        "import numpy as np\n",
        "\n",
        "class LinearRegressionModel():\n",
        "\n",
        "    def __init__(self, dataset, learning_rate, num_iterations):\n",
        "        self.dataset = np.array(dataset)\n",
        "        self.b = 0  \n",
        "        self.m = 0  \n",
        "        self.learning_rate = learning_rate\n",
        "        self.num_iterations = num_iterations\n",
        "        self.M = len(self.dataset)\n",
        "        self.total_error = 0\n",
        "\n",
        "    def apply_gradient_descent(self):\n",
        "        for i in range(self.num_iterations):\n",
        "            self.do_gradient_step()\n",
        "\n",
        "    def do_gradient_step(self):\n",
        "        b_summation = 0\n",
        "        m_summation = 0\n",
        "        for i in range(self.M):\n",
        "            x_value = self.dataset[i, 0]\n",
        "            y_value = self.dataset[i, 1]\n",
        "            b_summation += (((self.m * x_value) + self.b) - y_value) \n",
        "            m_summation += (((self.m * x_value) + self.b) - y_value) * x_value\n",
        "        self.b = self.b - (self.learning_rate * (1/self.M) * b_summation)\n",
        "        self.m = self.m - (self.learning_rate * (1/self.M) * m_summation)\n",
        "      \n",
        "    def compute_error(self):\n",
        "        for i in range(self.M):\n",
        "            x_value = self.dataset[i, 0]\n",
        "            y_value = self.dataset[i, 1]\n",
        "            self.total_error += ((self.m * x_value) + self.b) - y_value\n",
        "        return self.total_error\n",
        "\n",
        "    def __str__(self):\n",
        "        return \"Results: b: {}, m: {}, Final Total error: {}\".format(round(self.b, 2), round(self.m, 2), round(self.compute_error(), 2))\n",
        "\n",
        "    def get_prediction_based_on(self, x):\n",
        "        return round(float((self.m * x) + self.b), 2) \n",
        "\n",
        "def main():\n",
        "    school_dataset = np.genfromtxt(DATASET_PATH, delimiter=\",\")\n",
        "    lr = LinearRegressionModel(school_dataset, 0.0001, 1000)\n",
        "    lr.apply_gradient_descent()\n",
        "    hours = [10, 20, 30, 40, 50, 60, 70, 80, 90, 100]\n",
        "    for hour in hours:\n",
        "        print(\"Studied {} hours and got {} points.\".format(hour, lr.get_prediction_based_on(hour)))\n",
        "    print(lr)\n",
        "    if __name__ == \"__main__\": main()\n",
        "\n",
        "# Logistic Regression with Gradient Descent\n",
        "\n",
        "class LogisticRegression:\n",
        "  def __init__(self, learning_rate, num_iters, fit_intercept = True, verbose = False):\n",
        "    self.learning_rate = learning_rate\n",
        "    self.num_iters = num_iters\n",
        "    self.fit_intercept = fit_intercept\n",
        "    self.verbose = verbose\n",
        "  def __add_intercept(self, X):\n",
        "    intercept = np.ones((X.shape[0],1))\n",
        "    return np.concatenate((intercept,X),axis=1)\n",
        "  def __sigmoid(self,z):\n",
        "    return 1/(1+np.exp(-z))\n",
        "  def __loss(self, h, y):\n",
        "    return (-y * np.log(h) - (1-y) * np.log(1-h)).mean()\n",
        "  \n",
        "  def fit(self,X,y):\n",
        "    if self.fit_intercept:\n",
        "      X = self.__add_intercept(X)\n",
        "    self.theta = np.zeros(X.shape[1])\n",
        "    \n",
        "    for i in range(self.num_iters):\n",
        "      z = np.dot(X,self.theta)\n",
        "      h = self.__sigmoid(z)\n",
        "      gradient = np.dot(X.T,(h-y))/y.size\n",
        "      \n",
        "      self.theta -= self.learning_rate * gradient\n",
        "      \n",
        "      z = np.dot(X,self.theta)\n",
        "      h = self.__sigmoid(z)\n",
        "      loss = self.__loss(h,y)\n",
        "      \n",
        "      if self.verbose == True and i % 1000 == 0:\n",
        "        print(f'Loss: {loss}\\t')\n",
        "  def predict_probability(self,X):\n",
        "    if self.fit_intercept:\n",
        "      X = self.__add_intercept(X)\n",
        "    return self.__sigmoid(np.dot(X,self.theta))\n",
        "  def predict(self,X):\n",
        "    return (self.predict_probability(X).round())\n",
        "\n"
      ],
      "execution_count": 0,
      "outputs": []
    }
  ]
}